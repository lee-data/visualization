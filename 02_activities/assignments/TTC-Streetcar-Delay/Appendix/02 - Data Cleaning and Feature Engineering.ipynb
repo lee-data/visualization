{
 "cells": [
  {
   "cell_type": "markdown",
   "metadata": {},
   "source": [
    "\n",
    "<center>\n",
    "\n",
    "# **DATA PRE-PROCESSING / FEATURE ENGINEERING** \n",
    "\n",
    "By: Ly Nguyen \n",
    "\n",
    "</center>\n",
    "\n",
    "**- Exploratory data analysis**\n",
    "\n",
    "- Assess min, max, quantiles, standard deviations of features\n",
    "- Assess class imbalance\n",
    "- Assess outliers \n",
    "\n",
    "**- Data Pre-processing:**\n",
    "\n",
    "- Handle any NULL values, missing values, NA values, and zeros. \n",
    "\n",
    "- Select the response variable and the predictors:\n",
    "    - Predictors:\n",
    "        - Day (7 categories: Monday -> Sunday)\n",
    "\n",
    "        - Holiday (12 unique values)\n",
    "\n",
    "        - Season (7 categories: Spring 2023, Summer 2023, Autumn 2023, Winter 2023, Spring 2024, Summer 2024, Autumn 2024). \n",
    "        \n",
    "            (*Note: the dataset is from Jan 2023 to Sep 2024 only.) \n",
    "\n",
    "        - Time (4 categories: morning peak (06:30 - 09:30), midday (10:00 - 14:00), evening peak (16:30 - 19:00), off peak (others))\n",
    "\n",
    "        \n",
    "\n",
    "        - Line (19 unique values)\n",
    "\n",
    "        - Location (~3,000 unique locations)\n",
    "\n",
    "        - Bound (4 unique categories: N, S, W, E)\n",
    "\n",
    "        - Vehicle (~2,000 unique vehicle numbers)\n",
    "\n",
    "        - Incident category (13 categories)\n",
    "\n",
    "\n",
    "    - Response variable:\n",
    "        - Delay time (3 categories: short delay (5 minutes or less), normal delay (between 6 and 15 minutes), long delay (16 minutes or more)) \n",
    "\n",
    "- Use Statistical Inference with visualization tools: \n",
    "\n",
    "    - Handle significant outliers \n",
    "    \n",
    "- Feature engineering:\n",
    "    - 'One hot encode' the features (over 4,300 features) \n",
    "    \n",
    "    "
   ]
  },
  {
   "cell_type": "markdown",
   "metadata": {},
   "source": [
    "# *EXPLORATORY ANALYSIS (EDA)* \n"
   ]
  },
  {
   "cell_type": "code",
   "execution_count": 1,
   "metadata": {},
   "outputs": [
    {
     "name": "stderr",
     "output_type": "stream",
     "text": [
      "IProgress not found. Please update jupyter and ipywidgets. See https://ipywidgets.readthedocs.io/en/stable/user_install.html\n"
     ]
    }
   ],
   "source": [
    "# Import necessary libraries for this notebook: \n",
    "\n",
    "# Read from SQLite database and load to a pandas dataframe\n",
    "import os\n",
    "import sqlite3\n",
    "import pandas as pd\n",
    "\n",
    "# For using arrays \n",
    "import numpy as np\n",
    "\n",
    "# For data visualization \n",
    "import matplotlib.pyplot as plt\n",
    "import seaborn as sns\n",
    "from statsmodels.graphics.mosaicplot import mosaic\n",
    "\n",
    "# For saving the model into a pkl file\n",
    "import joblib\n"
   ]
  },
  {
   "cell_type": "code",
   "execution_count": 2,
   "metadata": {},
   "outputs": [],
   "source": [
    "# Load the saved df_prelim parquet file: \n",
    "relative_path = os.path.join(\"..\", \"data\", \"df_prelim.parquet\")\n",
    "df = pd.read_parquet(relative_path)\n"
   ]
  },
  {
   "cell_type": "code",
   "execution_count": 3,
   "metadata": {},
   "outputs": [
    {
     "name": "stdout",
     "output_type": "stream",
     "text": [
      "<class 'pandas.core.frame.DataFrame'>\n",
      "RangeIndex: 21742 entries, 0 to 21741\n",
      "Data columns (total 15 columns):\n",
      " #   Column         Non-Null Count  Dtype         \n",
      "---  ------         --------------  -----         \n",
      " 0   incident_date  21742 non-null  datetime64[ns]\n",
      " 1   line           21698 non-null  object        \n",
      " 2   incident_time  21742 non-null  object        \n",
      " 3   day_of_week    21742 non-null  object        \n",
      " 4   location       21741 non-null  object        \n",
      " 5   incident       21742 non-null  object        \n",
      " 6   min_delay      21742 non-null  int64         \n",
      " 7   min_gap        21742 non-null  int64         \n",
      " 8   bound          19127 non-null  object        \n",
      " 9   vehicle        21742 non-null  object        \n",
      " 10  holidayType    502 non-null    object        \n",
      " 11  seasonType     21742 non-null  object        \n",
      " 12  lineId         21580 non-null  object        \n",
      " 13  lineName       21580 non-null  object        \n",
      " 14  delayType      21742 non-null  int64         \n",
      "dtypes: datetime64[ns](1), int64(3), object(11)\n",
      "memory usage: 2.5+ MB\n"
     ]
    }
   ],
   "source": [
    "# Assess datatype and any NULL values\n",
    "df.info()"
   ]
  },
  {
   "cell_type": "markdown",
   "metadata": {},
   "source": [
    "*Comment:*\n",
    "\n",
    "-The dataset `df` contains 21,742 entries. \n",
    "\n",
    "1. **Null Values**:\n",
    "   - Several columns contain null values:\n",
    "     - `line` has 44 null values.\n",
    "     - `location` has 1 null value.\n",
    "     - `bound` has a significant number of null values (2,615).\n",
    "     - `holidayType` has many null values, with only 502 non-null entries.\n",
    "     - `lineId` and `lineName` also have null values (162 each).\n",
    "\n",
    "2. **Data Types**:\n",
    "   - `incident_date` is correctly in `datetime64[ns]` format.\n",
    "   - `min_delay`, `min_gap`, and `delayType` are correctly in numerical integer formats.  \n",
    "   - The rest is correctly stored as `object` format. \n",
    "\n"
   ]
  },
  {
   "cell_type": "markdown",
   "metadata": {},
   "source": [
    "*Note:* \n",
    "\n",
    "- When TTC streetcars are out of service and buses are used as substitutes, these buses are typically assigned the same route number as the streetcar line they are replacing. This helps passengers easily identify the substitute service and understand that it follows the same route as the regular streetcar service.\n",
    "\n",
    "- For example, if a streetcar on route 509 Harbourfront is out of service, a bus might be assigned route number 509 to continue providing service along the same path.\n",
    "\n",
    "- Therefore, we can drop the null values in 'line'.\n"
   ]
  },
  {
   "cell_type": "code",
   "execution_count": 4,
   "metadata": {},
   "outputs": [
    {
     "data": {
      "text/plain": [
       "incident_date     639\n",
       "line               44\n",
       "incident_time    1439\n",
       "day_of_week         7\n",
       "location         3197\n",
       "incident           14\n",
       "min_delay         268\n",
       "min_gap           292\n",
       "bound               8\n",
       "vehicle          1578\n",
       "holidayType         9\n",
       "seasonType          8\n",
       "lineId             17\n",
       "lineName           12\n",
       "delayType           3\n",
       "dtype: int64"
      ]
     },
     "execution_count": 4,
     "metadata": {},
     "output_type": "execute_result"
    }
   ],
   "source": [
    "# Count the unique values of each of the features\n",
    "df.nunique()"
   ]
  },
  {
   "cell_type": "code",
   "execution_count": 5,
   "metadata": {},
   "outputs": [
    {
     "data": {
      "text/plain": [
       "array(['W', 'E', 'S', None, 'N', 'B', '`', '1', '8'], dtype=object)"
      ]
     },
     "execution_count": 5,
     "metadata": {},
     "output_type": "execute_result"
    }
   ],
   "source": [
    "# Let's see why 'bound' has 8 unique values when it should only have 4 (N, S, W, E)\n",
    "df['bound'].unique()\n"
   ]
  },
  {
   "cell_type": "code",
   "execution_count": 6,
   "metadata": {},
   "outputs": [
    {
     "data": {
      "text/plain": [
       "array(['W', 'E', 'S', 'N'], dtype=object)"
      ]
     },
     "execution_count": 6,
     "metadata": {},
     "output_type": "execute_result"
    }
   ],
   "source": [
    "# Define the allowed values\n",
    "allowed_bounds = ['N', 'S', 'W', 'E']\n",
    "\n",
    "# Filter the DataFrame to keep only rows where 'bound' is in the allowed list\n",
    "df = df[df['bound'].isin(allowed_bounds)]\n",
    "\n",
    "# Reset the index if needed\n",
    "df.reset_index(drop=True, inplace=True)\n",
    "\n",
    "# Display the filtered DataFrame\n",
    "df['bound'].unique()\n"
   ]
  },
  {
   "cell_type": "code",
   "execution_count": 7,
   "metadata": {},
   "outputs": [
    {
     "name": "stdout",
     "output_type": "stream",
     "text": [
      "<class 'pandas.core.frame.DataFrame'>\n",
      "Index: 18985 entries, 0 to 19108\n",
      "Data columns (total 15 columns):\n",
      " #   Column         Non-Null Count  Dtype         \n",
      "---  ------         --------------  -----         \n",
      " 0   incident_date  18985 non-null  datetime64[ns]\n",
      " 1   line           18985 non-null  object        \n",
      " 2   incident_time  18985 non-null  object        \n",
      " 3   day_of_week    18985 non-null  object        \n",
      " 4   location       18985 non-null  object        \n",
      " 5   incident       18985 non-null  object        \n",
      " 6   min_delay      18985 non-null  int64         \n",
      " 7   min_gap        18985 non-null  int64         \n",
      " 8   bound          18985 non-null  object        \n",
      " 9   vehicle        18985 non-null  object        \n",
      " 10  holidayType    436 non-null    object        \n",
      " 11  seasonType     18985 non-null  object        \n",
      " 12  lineId         18985 non-null  object        \n",
      " 13  lineName       18985 non-null  object        \n",
      " 14  delayType      18985 non-null  int64         \n",
      "dtypes: datetime64[ns](1), int64(3), object(11)\n",
      "memory usage: 2.3+ MB\n",
      "None\n"
     ]
    }
   ],
   "source": [
    "# Drop rows with null values in any column except 'holidayType'\n",
    "df = df.dropna(subset=[col for col in df.columns if col != 'holidayType'])\n",
    "\n",
    "# Confirm the remaining rows and null counts\n",
    "print(df.info())\n"
   ]
  },
  {
   "cell_type": "code",
   "execution_count": 8,
   "metadata": {},
   "outputs": [
    {
     "data": {
      "image/png": "[encoded data removed]",
      "text/plain": [
       "<Figure size 1000x600 with 1 Axes>"
      ]
     },
     "metadata": {},
     "output_type": "display_data"
    }
   ],
   "source": [
    "# Check for class imbalance with data visualization\n",
    "\n",
    "# Whisker plot \n",
    "plt.figure(figsize=(10, 6))\n",
    "sns.boxplot(x=df['min_delay'])\n",
    "plt.title('Box Plot of Delay time')\n",
    "plt.show()"
   ]
  },
  {
   "cell_type": "code",
   "execution_count": 9,
   "metadata": {},
   "outputs": [
    {
     "data": {
      "image/png": "[encoded data removed]",
      "text/plain": [
       "<Figure size 1000x600 with 1 Axes>"
      ]
     },
     "metadata": {},
     "output_type": "display_data"
    }
   ],
   "source": [
    "# Histogram\n",
    "plt.figure(figsize=(10, 6))\n",
    "sns.histplot(df['min_delay'], bins=30, kde=True)\n",
    "plt.title('Histogram of min_delay')\n",
    "plt.xlabel('min_delay')\n",
    "plt.ylabel('Frequency')\n",
    "plt.show()"
   ]
  },
  {
   "cell_type": "code",
   "execution_count": 10,
   "metadata": {},
   "outputs": [
    {
     "data": {
      "text/plain": [
       "4744     960\n",
       "4530     948\n",
       "4550     948\n",
       "4506     882\n",
       "16055    873\n",
       "15955    792\n",
       "4761     780\n",
       "170      763\n",
       "4240     728\n",
       "3018     720\n",
       "3972     720\n",
       "18556    703\n",
       "15956    680\n",
       "4421     641\n",
       "13218    640\n",
       "5351     618\n",
       "15680    611\n",
       "1020     575\n",
       "5737     573\n",
       "14167    558\n",
       "Name: min_delay, dtype: int64"
      ]
     },
     "execution_count": 10,
     "metadata": {},
     "output_type": "execute_result"
    }
   ],
   "source": [
    "# View the largest min_delay values - which are most likely outliers \n",
    "df['min_delay'].nlargest(20)\n"
   ]
  },
  {
   "cell_type": "code",
   "execution_count": 12,
   "metadata": {},
   "outputs": [],
   "source": [
    "# Save df as \"df_EDA\" parquet file in 'data' folder (for separate EDA)\n",
    "relative_path = os.path.join(\"..\", \"data\", \"df_EDA.parquet\")\n",
    "df.to_parquet(relative_path, index=False)\n",
    "\n"
   ]
  },
  {
   "cell_type": "markdown",
   "metadata": {},
   "source": [
    "### *Note:*\n",
    "\n",
    "**Exploratory Data Analysis (EDA):** \n",
    "\n",
    "- Please refer to the EDA.ipynb for the visualizations.\n",
    "\n",
    "- After exploring several 'number of classes' (between 2 to 6 classes) and 'delay buckets' (varying between 10 minutes and 20 minutes), and fitting a Random Forest Classifier on them:\n",
    "\n",
    "- The optimal number of classes is 3, and the optimal 'delay buckets' are as follows:\n",
    "  - Short delay (5 minutes or less)\n",
    "  - Normal delay (between 6 and 15 minutes)\n",
    "  - Long delay (16 minutes or more)\n",
    "\n",
    "- This has been reflected accordingly in the \"createLINETable.py\" script, and consequently, the \"streetcardelaydb2.db\" database.\n",
    "\n",
    "**Measurement Error and Recall Bias:**\n",
    "\n",
    "- As observed in the EDA.ipynb file, there is likely significant recall bias in the data collection process, where it seems that data collectors/reporters estimated delay minutes rather than using a system/algorithm to 'start' and 'stop' the clock counts when a delay event occurs.\n",
    "- For example, there are large volumes of exactly 5-minute, 10-minute, and 15-minute delays, with a notable drop in volumes for the minutes in between.\n",
    "- We could verify this assumption with the TTC.\n",
    "- If this is the case, it is also highly likely that many significantly long delays—up (to 15 hours) — may be due to recall bias rather than actual 'start' and 'stop' clock counts, exacerbating measurement error and reducing data quality.\n",
    "\n",
    "\n",
    "**Approach:**\n",
    "\n",
    "- Due to the recall bias and measurement error mentioned, using regression would most likely result in a poor fit, as it tries to accurately predict numbers from data that were likely roughly estimated.\n",
    "- We will select a classification model and choose an ensemble bagging method for this problem — in particular, the Random Forest Classifier.\n",
    "\n",
    "\n"
   ]
  },
  {
   "cell_type": "markdown",
   "metadata": {},
   "source": [
    "### **Observation:**\n",
    "\n",
    "- Most of the delay time observations fall within 15 minutes (as shown in the boxplot).\n",
    "- There are many outliers outside of 15 minutes, extending as far as 900 minutes.\n",
    "- The data distribution is skewed to the right.\n",
    "- We have several options to approach this case study:\n",
    "  - Option 1: Focus the analysis on the most frequently encountered delays, i.e., within 15 minutes.\n",
    "  - Option 2: Focus the analysis on the most disruptive and significant delays, i.e., above 600 minutes.\n",
    "  - Option 3: Include all data points to have a general view and accept the possibility of a less accurate prediction.\n",
    "\n",
    "\n",
    "**Approach:**\n",
    "\n",
    "- For this project scope, we choose **Option 3: to have a general view, accepting the possibility of a less accurate prediction**.\n",
    "- We try to minimize inaccuracies as much as possible for Option 3 by:\n",
    "  - Using a classifier to define classes of 'frequent delays' (delays within 15 minutes) and 'disruptive/significant delays' (delays longer than 15 minutes), and employing a Random Forest Classifier as it is generally robust with outliers.\n",
    "    - Delay Type 1 - Short delay: 5 minutes or less\n",
    "    - Delay Type 2 - Normal delay: between 6 and 15 minutes\n",
    "    - Delay Type 3 - Long delay: over 15 minutes\n",
    "\n",
    "  - Reducing the dataset to delays that are less than 1 hour.\n",
    "\n",
    "- (Remark: Option 1 and Option 2 are *out of scope* but can be studied separately in the future.)\n",
    "\n"
   ]
  },
  {
   "cell_type": "code",
   "execution_count": 13,
   "metadata": {},
   "outputs": [
    {
     "data": {
      "text/html": [
       "<div>\n",
       "<style scoped>\n",
       "    .dataframe tbody tr th:only-of-type {\n",
       "        vertical-align: middle;\n",
       "    }\n",
       "\n",
       "    .dataframe tbody tr th {\n",
       "        vertical-align: top;\n",
       "    }\n",
       "\n",
       "    .dataframe thead th {\n",
       "        text-align: right;\n",
       "    }\n",
       "</style>\n",
       "<table border=\"1\" class=\"dataframe\">\n",
       "  <thead>\n",
       "    <tr style=\"text-align: right;\">\n",
       "      <th></th>\n",
       "      <th>incident_date</th>\n",
       "      <th>line</th>\n",
       "      <th>incident_time</th>\n",
       "      <th>day_of_week</th>\n",
       "      <th>location</th>\n",
       "      <th>incident</th>\n",
       "      <th>min_delay</th>\n",
       "      <th>min_gap</th>\n",
       "      <th>bound</th>\n",
       "      <th>vehicle</th>\n",
       "      <th>holidayType</th>\n",
       "      <th>seasonType</th>\n",
       "      <th>lineId</th>\n",
       "      <th>lineName</th>\n",
       "      <th>delayType</th>\n",
       "    </tr>\n",
       "  </thead>\n",
       "  <tbody>\n",
       "    <tr>\n",
       "      <th>0</th>\n",
       "      <td>2023-01-01</td>\n",
       "      <td>505</td>\n",
       "      <td>02:40</td>\n",
       "      <td>Sunday</td>\n",
       "      <td>BROADVIEW AND GERRARD</td>\n",
       "      <td>Held By</td>\n",
       "      <td>15</td>\n",
       "      <td>25</td>\n",
       "      <td>W</td>\n",
       "      <td>4460</td>\n",
       "      <td>New Year's Day</td>\n",
       "      <td>Winter 2023</td>\n",
       "      <td>505</td>\n",
       "      <td>Dundas</td>\n",
       "      <td>2</td>\n",
       "    </tr>\n",
       "    <tr>\n",
       "      <th>1</th>\n",
       "      <td>2023-01-01</td>\n",
       "      <td>504</td>\n",
       "      <td>02:52</td>\n",
       "      <td>Sunday</td>\n",
       "      <td>KING AND BATHURST</td>\n",
       "      <td>Cleaning - Unsanitary</td>\n",
       "      <td>10</td>\n",
       "      <td>20</td>\n",
       "      <td>W</td>\n",
       "      <td>4427</td>\n",
       "      <td>New Year's Day</td>\n",
       "      <td>Winter 2023</td>\n",
       "      <td>504</td>\n",
       "      <td>King</td>\n",
       "      <td>2</td>\n",
       "    </tr>\n",
       "    <tr>\n",
       "      <th>2</th>\n",
       "      <td>2023-01-01</td>\n",
       "      <td>504</td>\n",
       "      <td>02:59</td>\n",
       "      <td>Sunday</td>\n",
       "      <td>KING AND BATHURST</td>\n",
       "      <td>Held By</td>\n",
       "      <td>25</td>\n",
       "      <td>35</td>\n",
       "      <td>E</td>\n",
       "      <td>4560</td>\n",
       "      <td>New Year's Day</td>\n",
       "      <td>Winter 2023</td>\n",
       "      <td>504</td>\n",
       "      <td>King</td>\n",
       "      <td>3</td>\n",
       "    </tr>\n",
       "    <tr>\n",
       "      <th>3</th>\n",
       "      <td>2023-01-01</td>\n",
       "      <td>510</td>\n",
       "      <td>05:38</td>\n",
       "      <td>Sunday</td>\n",
       "      <td>SPADINA AND DUNDAS</td>\n",
       "      <td>Security</td>\n",
       "      <td>15</td>\n",
       "      <td>30</td>\n",
       "      <td>S</td>\n",
       "      <td>4449</td>\n",
       "      <td>New Year's Day</td>\n",
       "      <td>Winter 2023</td>\n",
       "      <td>510</td>\n",
       "      <td>Spadina</td>\n",
       "      <td>2</td>\n",
       "    </tr>\n",
       "    <tr>\n",
       "      <th>4</th>\n",
       "      <td>2023-01-01</td>\n",
       "      <td>501</td>\n",
       "      <td>08:52</td>\n",
       "      <td>Sunday</td>\n",
       "      <td>LAKE SHORE AND THIRTY</td>\n",
       "      <td>Cleaning - Unsanitary</td>\n",
       "      <td>10</td>\n",
       "      <td>20</td>\n",
       "      <td>W</td>\n",
       "      <td>8015</td>\n",
       "      <td>New Year's Day</td>\n",
       "      <td>Winter 2023</td>\n",
       "      <td>501</td>\n",
       "      <td>Queen</td>\n",
       "      <td>2</td>\n",
       "    </tr>\n",
       "  </tbody>\n",
       "</table>\n",
       "</div>"
      ],
      "text/plain": [
       "  incident_date line incident_time day_of_week               location  \\\n",
       "0    2023-01-01  505         02:40      Sunday  BROADVIEW AND GERRARD   \n",
       "1    2023-01-01  504         02:52      Sunday      KING AND BATHURST   \n",
       "2    2023-01-01  504         02:59      Sunday      KING AND BATHURST   \n",
       "3    2023-01-01  510         05:38      Sunday     SPADINA AND DUNDAS   \n",
       "4    2023-01-01  501         08:52      Sunday  LAKE SHORE AND THIRTY   \n",
       "\n",
       "                incident  min_delay  min_gap bound vehicle     holidayType  \\\n",
       "0                Held By         15       25     W    4460  New Year's Day   \n",
       "1  Cleaning - Unsanitary         10       20     W    4427  New Year's Day   \n",
       "2                Held By         25       35     E    4560  New Year's Day   \n",
       "3               Security         15       30     S    4449  New Year's Day   \n",
       "4  Cleaning - Unsanitary         10       20     W    8015  New Year's Day   \n",
       "\n",
       "    seasonType lineId lineName  delayType  \n",
       "0  Winter 2023    505   Dundas          2  \n",
       "1  Winter 2023    504     King          2  \n",
       "2  Winter 2023    504     King          3  \n",
       "3  Winter 2023    510  Spadina          2  \n",
       "4  Winter 2023    501    Queen          2  "
      ]
     },
     "execution_count": 13,
     "metadata": {},
     "output_type": "execute_result"
    }
   ],
   "source": [
    "# Create a new DataFrame with min_delay values less than 60 minutes\n",
    "df_new = df[df['min_delay'] < 61]\n",
    "\n",
    "# Display the new DataFrame\n",
    "df_new.head()\n",
    "\n"
   ]
  },
  {
   "cell_type": "code",
   "execution_count": 17,
   "metadata": {},
   "outputs": [
    {
     "data": {
      "text/html": [
       "<div>\n",
       "<style scoped>\n",
       "    .dataframe tbody tr th:only-of-type {\n",
       "        vertical-align: middle;\n",
       "    }\n",
       "\n",
       "    .dataframe tbody tr th {\n",
       "        vertical-align: top;\n",
       "    }\n",
       "\n",
       "    .dataframe thead th {\n",
       "        text-align: right;\n",
       "    }\n",
       "</style>\n",
       "<table border=\"1\" class=\"dataframe\">\n",
       "  <thead>\n",
       "    <tr style=\"text-align: right;\">\n",
       "      <th></th>\n",
       "      <th>incident_date</th>\n",
       "      <th>min_delay</th>\n",
       "      <th>min_gap</th>\n",
       "      <th>delayType</th>\n",
       "    </tr>\n",
       "  </thead>\n",
       "  <tbody>\n",
       "    <tr>\n",
       "      <th>count</th>\n",
       "      <td>18234</td>\n",
       "      <td>18234.000000</td>\n",
       "      <td>18234.000000</td>\n",
       "      <td>18234.000000</td>\n",
       "    </tr>\n",
       "    <tr>\n",
       "      <th>mean</th>\n",
       "      <td>2023-11-18 08:59:18.538993152</td>\n",
       "      <td>12.878469</td>\n",
       "      <td>21.901338</td>\n",
       "      <td>2.086377</td>\n",
       "    </tr>\n",
       "    <tr>\n",
       "      <th>min</th>\n",
       "      <td>2023-01-01 00:00:00</td>\n",
       "      <td>1.000000</td>\n",
       "      <td>0.000000</td>\n",
       "      <td>1.000000</td>\n",
       "    </tr>\n",
       "    <tr>\n",
       "      <th>25%</th>\n",
       "      <td>2023-06-13 00:00:00</td>\n",
       "      <td>8.000000</td>\n",
       "      <td>16.000000</td>\n",
       "      <td>2.000000</td>\n",
       "    </tr>\n",
       "    <tr>\n",
       "      <th>50%</th>\n",
       "      <td>2023-11-25 00:00:00</td>\n",
       "      <td>10.000000</td>\n",
       "      <td>20.000000</td>\n",
       "      <td>2.000000</td>\n",
       "    </tr>\n",
       "    <tr>\n",
       "      <th>75%</th>\n",
       "      <td>2024-04-17 00:00:00</td>\n",
       "      <td>12.000000</td>\n",
       "      <td>21.000000</td>\n",
       "      <td>2.000000</td>\n",
       "    </tr>\n",
       "    <tr>\n",
       "      <th>max</th>\n",
       "      <td>2024-09-30 00:00:00</td>\n",
       "      <td>60.000000</td>\n",
       "      <td>224.000000</td>\n",
       "      <td>3.000000</td>\n",
       "    </tr>\n",
       "    <tr>\n",
       "      <th>std</th>\n",
       "      <td>NaN</td>\n",
       "      <td>9.842077</td>\n",
       "      <td>12.129825</td>\n",
       "      <td>0.540518</td>\n",
       "    </tr>\n",
       "  </tbody>\n",
       "</table>\n",
       "</div>"
      ],
      "text/plain": [
       "                       incident_date     min_delay       min_gap     delayType\n",
       "count                          18234  18234.000000  18234.000000  18234.000000\n",
       "mean   2023-11-18 08:59:18.538993152     12.878469     21.901338      2.086377\n",
       "min              2023-01-01 00:00:00      1.000000      0.000000      1.000000\n",
       "25%              2023-06-13 00:00:00      8.000000     16.000000      2.000000\n",
       "50%              2023-11-25 00:00:00     10.000000     20.000000      2.000000\n",
       "75%              2024-04-17 00:00:00     12.000000     21.000000      2.000000\n",
       "max              2024-09-30 00:00:00     60.000000    224.000000      3.000000\n",
       "std                              NaN      9.842077     12.129825      0.540518"
      ]
     },
     "execution_count": 17,
     "metadata": {},
     "output_type": "execute_result"
    }
   ],
   "source": [
    "df_new.describe()"
   ]
  },
  {
   "cell_type": "code",
   "execution_count": 18,
   "metadata": {},
   "outputs": [
    {
     "name": "stdout",
     "output_type": "stream",
     "text": [
      "<class 'pandas.core.frame.DataFrame'>\n",
      "Index: 18234 entries, 0 to 19108\n",
      "Data columns (total 15 columns):\n",
      " #   Column         Non-Null Count  Dtype         \n",
      "---  ------         --------------  -----         \n",
      " 0   incident_date  18234 non-null  datetime64[ns]\n",
      " 1   line           18234 non-null  object        \n",
      " 2   incident_time  18234 non-null  object        \n",
      " 3   day_of_week    18234 non-null  object        \n",
      " 4   location       18234 non-null  object        \n",
      " 5   incident       18234 non-null  object        \n",
      " 6   min_delay      18234 non-null  int64         \n",
      " 7   min_gap        18234 non-null  int64         \n",
      " 8   bound          18234 non-null  object        \n",
      " 9   vehicle        18234 non-null  object        \n",
      " 10  holidayType    425 non-null    object        \n",
      " 11  seasonType     18234 non-null  object        \n",
      " 12  lineId         18234 non-null  object        \n",
      " 13  lineName       18234 non-null  object        \n",
      " 14  delayType      18234 non-null  int64         \n",
      "dtypes: datetime64[ns](1), int64(3), object(11)\n",
      "memory usage: 2.2+ MB\n"
     ]
    }
   ],
   "source": [
    "df_new.info()"
   ]
  },
  {
   "cell_type": "markdown",
   "metadata": {},
   "source": [
    "# DATA PRE-PROCESSING / FEATURE ENGINEERING\n",
    "\n",
    "- Featurize the time types \n",
    "- Clean values within the reduced dataset \n",
    "- One-hot-encode the features "
   ]
  },
  {
   "cell_type": "code",
   "execution_count": 19,
   "metadata": {},
   "outputs": [],
   "source": [
    "# Ensure consistent parsing of datetime\n",
    "df_new['incident_time'] = pd.to_datetime(\n",
    "    df_new['incident_time'], \n",
    "    format='%H:%M',  # Adjust format based on time data (e.g., 'HH:MM')\n",
    "    errors='coerce'\n",
    ").dt.time\n",
    "\n",
    "# Define function to categorize time\n",
    "def categorize_time(time):\n",
    "    if pd.isna(time):\n",
    "        return None\n",
    "    if pd.to_datetime('06:30').time() <= time <= pd.to_datetime('09:30').time():\n",
    "        return 'morning_peak'\n",
    "    elif pd.to_datetime('10:00').time() <= time <= pd.to_datetime('14:00').time():\n",
    "        return 'midday'\n",
    "    elif pd.to_datetime('16:30').time() <= time <= pd.to_datetime('19:00').time():\n",
    "        return 'evening_peak'\n",
    "    else:\n",
    "        return 'off_peak'\n",
    "\n",
    "# Apply function to create new column \"timeType\"\n",
    "df_new = df_new.copy()  # Ensure df_new is independent\n",
    "df_new['timeType'] = df_new['incident_time'].apply(categorize_time)\n",
    "\n",
    "# Define a helper function for cleaning columns\n",
    "def clean_column(df, column_name, valid_values=None):\n",
    "    # Work on a copy of the DataFrame\n",
    "    cleaned_df = df.copy()\n",
    "    \n",
    "    # Remove leading/trailing spaces\n",
    "    cleaned_df.loc[:, column_name] = cleaned_df[column_name].str.strip()\n",
    "    \n",
    "    # Drop rows with null values in the specified column\n",
    "    cleaned_df = cleaned_df[cleaned_df[column_name].notna()]\n",
    "    \n",
    "    # Filter rows by valid values if provided\n",
    "    if valid_values:\n",
    "        cleaned_df = cleaned_df[cleaned_df[column_name].isin(valid_values)]\n",
    "    \n",
    "    return cleaned_df\n",
    "\n",
    "# Initialize df_cleaned as a copy of df_new\n",
    "df_cleaned = df_new.copy()\n",
    "\n",
    "# Clean columns\n",
    "columns_to_clean = ['location', 'incident', 'vehicle', 'day_of_week', 'line', 'bound']\n",
    "for col in columns_to_clean:\n",
    "    df_cleaned = clean_column(df_cleaned, col)\n",
    "\n",
    "# Recreate df_cleaned to ensure independence\n",
    "df_cleaned = df_cleaned.copy()\n",
    "\n",
    "# One-Hot Encode Categorical Columns\n",
    "categorical_cols = ['location', 'incident', 'vehicle', 'day_of_week', 'line', 'bound', 'timeType', 'holidayType', 'seasonType']\n",
    "\n",
    "# Use pandas get_dummies to one-hot encode the categorical columns\n",
    "df_cleaned = pd.get_dummies(df_cleaned, columns=categorical_cols, drop_first=True)\n",
    "\n"
   ]
  },
  {
   "cell_type": "code",
   "execution_count": 20,
   "metadata": {},
   "outputs": [
    {
     "data": {
      "text/html": [
       "<div>\n",
       "<style scoped>\n",
       "    .dataframe tbody tr th:only-of-type {\n",
       "        vertical-align: middle;\n",
       "    }\n",
       "\n",
       "    .dataframe tbody tr th {\n",
       "        vertical-align: top;\n",
       "    }\n",
       "\n",
       "    .dataframe thead th {\n",
       "        text-align: right;\n",
       "    }\n",
       "</style>\n",
       "<table border=\"1\" class=\"dataframe\">\n",
       "  <thead>\n",
       "    <tr style=\"text-align: right;\">\n",
       "      <th></th>\n",
       "      <th>incident_date</th>\n",
       "      <th>incident_time</th>\n",
       "      <th>min_delay</th>\n",
       "      <th>min_gap</th>\n",
       "      <th>lineId</th>\n",
       "      <th>lineName</th>\n",
       "      <th>delayType</th>\n",
       "      <th>location_1 DAVIES AVE</th>\n",
       "      <th>location_10 RITCHIE AVE</th>\n",
       "      <th>location_100 KING ST W</th>\n",
       "      <th>...</th>\n",
       "      <th>holidayType_New Year's Day</th>\n",
       "      <th>holidayType_Thanksgiving</th>\n",
       "      <th>holidayType_Victoria Day</th>\n",
       "      <th>seasonType_Fall 2024</th>\n",
       "      <th>seasonType_Spring 2023</th>\n",
       "      <th>seasonType_Spring 2024</th>\n",
       "      <th>seasonType_Summer 2023</th>\n",
       "      <th>seasonType_Summer 2024</th>\n",
       "      <th>seasonType_Winter 2023</th>\n",
       "      <th>seasonType_Winter 2024</th>\n",
       "    </tr>\n",
       "  </thead>\n",
       "  <tbody>\n",
       "    <tr>\n",
       "      <th>0</th>\n",
       "      <td>2023-01-01</td>\n",
       "      <td>NaT</td>\n",
       "      <td>15</td>\n",
       "      <td>25</td>\n",
       "      <td>505</td>\n",
       "      <td>Dundas</td>\n",
       "      <td>2</td>\n",
       "      <td>False</td>\n",
       "      <td>False</td>\n",
       "      <td>False</td>\n",
       "      <td>...</td>\n",
       "      <td>True</td>\n",
       "      <td>False</td>\n",
       "      <td>False</td>\n",
       "      <td>False</td>\n",
       "      <td>False</td>\n",
       "      <td>False</td>\n",
       "      <td>False</td>\n",
       "      <td>False</td>\n",
       "      <td>True</td>\n",
       "      <td>False</td>\n",
       "    </tr>\n",
       "    <tr>\n",
       "      <th>1</th>\n",
       "      <td>2023-01-01</td>\n",
       "      <td>NaT</td>\n",
       "      <td>10</td>\n",
       "      <td>20</td>\n",
       "      <td>504</td>\n",
       "      <td>King</td>\n",
       "      <td>2</td>\n",
       "      <td>False</td>\n",
       "      <td>False</td>\n",
       "      <td>False</td>\n",
       "      <td>...</td>\n",
       "      <td>True</td>\n",
       "      <td>False</td>\n",
       "      <td>False</td>\n",
       "      <td>False</td>\n",
       "      <td>False</td>\n",
       "      <td>False</td>\n",
       "      <td>False</td>\n",
       "      <td>False</td>\n",
       "      <td>True</td>\n",
       "      <td>False</td>\n",
       "    </tr>\n",
       "    <tr>\n",
       "      <th>2</th>\n",
       "      <td>2023-01-01</td>\n",
       "      <td>NaT</td>\n",
       "      <td>25</td>\n",
       "      <td>35</td>\n",
       "      <td>504</td>\n",
       "      <td>King</td>\n",
       "      <td>3</td>\n",
       "      <td>False</td>\n",
       "      <td>False</td>\n",
       "      <td>False</td>\n",
       "      <td>...</td>\n",
       "      <td>True</td>\n",
       "      <td>False</td>\n",
       "      <td>False</td>\n",
       "      <td>False</td>\n",
       "      <td>False</td>\n",
       "      <td>False</td>\n",
       "      <td>False</td>\n",
       "      <td>False</td>\n",
       "      <td>True</td>\n",
       "      <td>False</td>\n",
       "    </tr>\n",
       "    <tr>\n",
       "      <th>3</th>\n",
       "      <td>2023-01-01</td>\n",
       "      <td>NaT</td>\n",
       "      <td>15</td>\n",
       "      <td>30</td>\n",
       "      <td>510</td>\n",
       "      <td>Spadina</td>\n",
       "      <td>2</td>\n",
       "      <td>False</td>\n",
       "      <td>False</td>\n",
       "      <td>False</td>\n",
       "      <td>...</td>\n",
       "      <td>True</td>\n",
       "      <td>False</td>\n",
       "      <td>False</td>\n",
       "      <td>False</td>\n",
       "      <td>False</td>\n",
       "      <td>False</td>\n",
       "      <td>False</td>\n",
       "      <td>False</td>\n",
       "      <td>True</td>\n",
       "      <td>False</td>\n",
       "    </tr>\n",
       "    <tr>\n",
       "      <th>4</th>\n",
       "      <td>2023-01-01</td>\n",
       "      <td>NaT</td>\n",
       "      <td>10</td>\n",
       "      <td>20</td>\n",
       "      <td>501</td>\n",
       "      <td>Queen</td>\n",
       "      <td>2</td>\n",
       "      <td>False</td>\n",
       "      <td>False</td>\n",
       "      <td>False</td>\n",
       "      <td>...</td>\n",
       "      <td>True</td>\n",
       "      <td>False</td>\n",
       "      <td>False</td>\n",
       "      <td>False</td>\n",
       "      <td>False</td>\n",
       "      <td>False</td>\n",
       "      <td>False</td>\n",
       "      <td>False</td>\n",
       "      <td>True</td>\n",
       "      <td>False</td>\n",
       "    </tr>\n",
       "  </tbody>\n",
       "</table>\n",
       "<p>5 rows × 4397 columns</p>\n",
       "</div>"
      ],
      "text/plain": [
       "  incident_date incident_time  min_delay  min_gap lineId lineName  delayType  \\\n",
       "0    2023-01-01           NaT         15       25    505   Dundas          2   \n",
       "1    2023-01-01           NaT         10       20    504     King          2   \n",
       "2    2023-01-01           NaT         25       35    504     King          3   \n",
       "3    2023-01-01           NaT         15       30    510  Spadina          2   \n",
       "4    2023-01-01           NaT         10       20    501    Queen          2   \n",
       "\n",
       "   location_1 DAVIES AVE  location_10 RITCHIE AVE  location_100 KING ST W  \\\n",
       "0                  False                    False                   False   \n",
       "1                  False                    False                   False   \n",
       "2                  False                    False                   False   \n",
       "3                  False                    False                   False   \n",
       "4                  False                    False                   False   \n",
       "\n",
       "   ...  holidayType_New Year's Day  holidayType_Thanksgiving  \\\n",
       "0  ...                        True                     False   \n",
       "1  ...                        True                     False   \n",
       "2  ...                        True                     False   \n",
       "3  ...                        True                     False   \n",
       "4  ...                        True                     False   \n",
       "\n",
       "   holidayType_Victoria Day  seasonType_Fall 2024  seasonType_Spring 2023  \\\n",
       "0                     False                 False                   False   \n",
       "1                     False                 False                   False   \n",
       "2                     False                 False                   False   \n",
       "3                     False                 False                   False   \n",
       "4                     False                 False                   False   \n",
       "\n",
       "   seasonType_Spring 2024  seasonType_Summer 2023  seasonType_Summer 2024  \\\n",
       "0                   False                   False                   False   \n",
       "1                   False                   False                   False   \n",
       "2                   False                   False                   False   \n",
       "3                   False                   False                   False   \n",
       "4                   False                   False                   False   \n",
       "\n",
       "   seasonType_Winter 2023  seasonType_Winter 2024  \n",
       "0                    True                   False  \n",
       "1                    True                   False  \n",
       "2                    True                   False  \n",
       "3                    True                   False  \n",
       "4                    True                   False  \n",
       "\n",
       "[5 rows x 4397 columns]"
      ]
     },
     "execution_count": 20,
     "metadata": {},
     "output_type": "execute_result"
    }
   ],
   "source": [
    "# Display the DataFrame after one-hot encoding\n",
    "df_cleaned.head()\n"
   ]
  },
  {
   "cell_type": "code",
   "execution_count": 21,
   "metadata": {},
   "outputs": [
    {
     "name": "stdout",
     "output_type": "stream",
     "text": [
      "incident_date             datetime64[ns]\n",
      "incident_time             datetime64[ns]\n",
      "min_delay                          int64\n",
      "min_gap                            int64\n",
      "lineId                            object\n",
      "                               ...      \n",
      "seasonType_Spring 2024              bool\n",
      "seasonType_Summer 2023              bool\n",
      "seasonType_Summer 2024              bool\n",
      "seasonType_Winter 2023              bool\n",
      "seasonType_Winter 2024              bool\n",
      "Length: 4397, dtype: object\n"
     ]
    }
   ],
   "source": [
    "print(df_cleaned.dtypes)  # This should show only numeric data types\n",
    "\n"
   ]
  },
  {
   "cell_type": "code",
   "execution_count": 22,
   "metadata": {},
   "outputs": [],
   "source": [
    "# As there are 4,400 features, we will need to save the output to a .txt file and verify that the data types are correct.\n",
    "with open(\"data_types_output.txt\", \"w\") as file:\n",
    "    file.write(df_cleaned.dtypes.to_string())\n"
   ]
  },
  {
   "cell_type": "code",
   "execution_count": 23,
   "metadata": {},
   "outputs": [],
   "source": [
    "# Drop the following columns: incident_date, incident_time, min_gap, lineID. lineName\n",
    "df_cleaned = df_cleaned.drop(['incident_date','incident_time', 'min_gap', 'lineId', 'lineName'], axis=1)\n"
   ]
  },
  {
   "cell_type": "code",
   "execution_count": 24,
   "metadata": {},
   "outputs": [
    {
     "name": "stdout",
     "output_type": "stream",
     "text": [
      "delayType\n",
      "2    12771\n",
      "3     3519\n",
      "1     1944\n",
      "Name: count, dtype: int64\n"
     ]
    }
   ],
   "source": [
    "# Check the distribution of delayType\n",
    "print(df_cleaned['delayType'].value_counts())"
   ]
  },
  {
   "cell_type": "markdown",
   "metadata": {},
   "source": [
    "# *ASSESSING CLASS IMBALANCE*"
   ]
  },
  {
   "cell_type": "code",
   "execution_count": 25,
   "metadata": {},
   "outputs": [
    {
     "name": "stderr",
     "output_type": "stream",
     "text": [
      "\n",
      "\n",
      "Passing `palette` without assigning `hue` is deprecated and will be removed in v0.14.0. Assign the `x` variable to `hue` and set `legend=False` for the same effect.\n",
      "\n"
     ]
    },
    {
     "data": {
      "image/png": "[encoded data removed]",
      "text/plain": [
       "<Figure size 1000x600 with 1 Axes>"
      ]
     },
     "metadata": {},
     "output_type": "display_data"
    }
   ],
   "source": [
    "# Visualize this with a whisker plot:\n",
    "delay_type_counts = df_cleaned['delayType'].value_counts()\n",
    "\n",
    "plt.figure(figsize=(10, 6))\n",
    "sns.barplot(x=delay_type_counts.index, y=delay_type_counts.values, palette='viridis')\n",
    "plt.title('Distribution of Delay Types')\n",
    "plt.xlabel('Delay Type')\n",
    "plt.ylabel('Count')\n",
    "plt.show()\n"
   ]
  },
  {
   "cell_type": "markdown",
   "metadata": {},
   "source": [
    "**Observation:**\n",
    "- There is a significant class imbalance (as expected), where the normal delay type (between 6 and 15 minutes) significantly dominates.\n",
    "- This means we will need to employ stratified sampling during cross-validation (to ensure representative subsets), balanced class weight, and balanced accuracy score to ensure a predictive model that doesn't bias the majority class too much.\n"
   ]
  },
  {
   "cell_type": "code",
   "execution_count": 26,
   "metadata": {},
   "outputs": [],
   "source": [
    "# Save down this \"df_cleaned\" as a parquet file (for separate ML work)\n",
    "relative_path = os.path.join(\"..\", \"data\", \"df_cleaned.parquet\")\n",
    "df_cleaned.to_parquet(relative_path, index=False)"
   ]
  },
  {
   "cell_type": "markdown",
   "metadata": {},
   "source": [
    "---\n",
    "---"
   ]
  }
 ],
 "metadata": {
  "kernelspec": {
   "display_name": "DSI_participant",
   "language": "python",
   "name": "python3"
  },
  "language_info": {
   "codemirror_mode": {
    "name": "ipython",
    "version": 3
   },
   "file_extension": ".py",
   "mimetype": "text/x-python",
   "name": "python",
   "nbconvert_exporter": "python",
   "pygments_lexer": "ipython3",
   "version": "3.9.15"
  }
 },
 "nbformat": 4,
 "nbformat_minor": 2
}
